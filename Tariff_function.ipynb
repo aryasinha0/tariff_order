{
 "cells": [
  {
   "cell_type": "code",
   "execution_count": 6,
   "metadata": {},
   "outputs": [],
   "source": [
    "import math\n",
    "class tariffOrder:\n",
    "\n",
    "    def __init__(self,CONC_LOAD,CONTRACT_DEMAND,SANC_LOAD,TARIFF_ID,BILLED_MONTH,CUR_READ,PRE_READ,RECORD_DEM,PF_VALUE,HRS_OF_SUPPLY):\n",
    "        self.CONC_LOAD=CONC_LOAD\n",
    "        self.CONTRACT_DEMAND=CONTRACT_DEMAND\n",
    "        self.SANC_LOAD=SANC_LOAD\n",
    "        self.TARIFF_ID=TARIFF_ID\n",
    "        self.BILLED_MONTH=BILLED_MONTH\n",
    "        self.CUR_READ=CUR_READ\n",
    "        self.PRE_READ=PRE_READ\n",
    "        self.RECORD_DEM=RECORD_DEM\n",
    "        self.PF_VALUE=PF_VALUE\n",
    "        self.HRS=HRS_OF_SUPPLY\n",
    "        \n",
    "    def unitsCons (self):\n",
    "        return (self.CUR_READ - self.PRE_READ)\n",
    "\n",
    "    def fixed_chrg_cal(self):     #sanc_load,con_demand,rec_demand,tariff_rate,billing_days,hours\n",
    "        fixed_charge=0\n",
    "        exc_charge=0\n",
    "        hrs=1\n",
    "        fixed_rate_dict={'DS1D':40, 'DS2D': 80, 'DS3D': 80, 'NDS1D':60, 'LTIS1D' : 288, 'LTIS2D' : 360, 'KJ' : 20, 'IAS1' : 100, 'IAS2D' : 500, 'PWWD' : 630, 'HGN': 100, 'SS2':100, 'SS1D': 100, 'LTEV':0}\n",
    "\n",
    "        if self.TARIFF_ID=='NDS2D':\n",
    "            if self.CONTRACT_DEMAND<=0.5:\n",
    "                tariff_rate=200\n",
    "            else:\n",
    "                tariff_rate=300\n",
    "        else:\n",
    "                tariff_rate=fixed_rate_dict[self.TARIFF_ID]\n",
    "        if self.TARIFF_ID=='KJ':\n",
    "            self.SANC_LOAD=self.SANC_LOAD/1000\n",
    "            self.CONTRACT_DEMAND=self.CONTRACT_DEMAND/1000\n",
    "            self.RECORD_DEM=self.RECORD_DEM/1000\n",
    "        \n",
    "        if 0<self.HRS<21:\n",
    "            hrs=self.HRS/21\n",
    "        if self.CONTRACT_DEMAND==self.SANC_LOAD or self.CONTRACT_DEMAND>self.SANC_LOAD:\n",
    "            if self.RECORD_DEM>self.CONTRACT_DEMAND:\n",
    "                fixed_charge= (((math.ceil(self.RECORD_DEM)*tariff_rate)/30)*self.BILLED_MONTH)*hrs\n",
    "                if self.RECORD_DEM>(105/100)*self.CONTRACT_DEMAND:\n",
    "                    exc_charge=(((math.ceil(self.RECORD_DEM-self.CONTRACT_DEMAND)*tariff_rate)/30)*self.BILLED_MONTH)*hrs\n",
    "            else:\n",
    "                if (75/100)*self.CONTRACT_DEMAND>self.RECORD_DEM:\n",
    "                    fixed_charge= (((math.ceil((75/100)*self.CONTRACT_DEMAND)*tariff_rate)/30)*self.BILLED_MONTH)*hrs\n",
    "                else:\n",
    "                    fixed_charge=(((math.ceil(self.RECORD_DEM)*tariff_rate)/30)*self.BILLED_MONTH)*hrs\n",
    "        else:\n",
    "            if self.RECORD_DEM>self.SANC_LOAD:\n",
    "                fixed_charge= (((math.ceil(self.RECORD_DEM)*tariff_rate)/30)*self.BILLED_MONTH)*hrs\n",
    "                if self.RECORD_DEM>(105/100)*self.SANC_LOAD:\n",
    "                    exc_charge=(((math.ceil(self.RECORD_DEM-self.SANC_LOAD)*tariff_rate)/30)*self.BILLED_MONTH)*hrs\n",
    "            else:\n",
    "                if (75/100)*self.SANC_LOAD>self.RECORD_DEM:\n",
    "                    fixed_charge= (((math.ceil((75/100)*self.SANC_LOAD)*tariff_rate)/30)*self.BILLED_MONTH)*hrs\n",
    "                else:\n",
    "                    fixed_charge=(((math.ceil(self.RECORD_DEM)*tariff_rate)/30)*self.BILLED_MONTH)*hrs\n",
    "\n",
    "        fixed_charge = round(fixed_charge, 2) if fixed_charge != int(fixed_charge) else int(fixed_charge)\n",
    "        exc_charge = round(exc_charge, 2) if exc_charge != int(exc_charge) else int(exc_charge)\n",
    "\n",
    "        return fixed_charge, exc_charge\n",
    "    \n",
    "    def ec_charge(self):\n",
    "        if self.CONTRACT_DEMAND<=0.5:\n",
    "            energy_charge={'DS1D': [7.57,8.11,50], \"DS2D\":[7.57,9.10,100], \"DS3D\":[9.18,9.18,100],'NDS1D':[7.94,8.36,100], \"LTIS1D\":[7.94,7.94,100],\"LTIS2D\":[7.94,7.94,100],\"KJ\":[7.57,8.11,50],\"IAS1\":[6.89,6.89,100],\"IAS2D\":[7.32,9.32,100],\n",
    "                \"PWWD\" : [9.87,9.87,100], \"HGN\":[8.31,8.31,100], \"SS2\":[9.18,9.18,100], \"SS1D\":[9.18,9.18,100], \"LTEV\":[8.87,8.87,100], \"NDS2D\":[7.88,7.88,100]}\n",
    "        else:\n",
    "            energy_charge={'DS1D': [7.57,8.11,50], \"DS2D\":[7.57,9.10,100], \"DS3D\":[9.18,9.18,100],'NDS1D':[7.94,8.36,100], \"LTIS1D\":[7.94,7.94,100],\"LTIS2D\":[7.94,7.94,100],\"KJ\":[7.57,8.11,50],\"IAS1\":[6.89,6.89,100],\"IAS2D\":[7.32,9.32,100],\n",
    "                \"PWWD\" : [9.87,9.87,100], \"HGN\":[8.31,8.31,100], \"SS2\":[9.18,9.18,100], \"SS1D\":[9.18,9.18,100], \"LTEV\":[8.87,8.87,100], \"NDS2D\":[7.88,9.08,100]}\n",
    "        slab=energy_charge[self.TARIFF_ID][2]\n",
    "        charge1=energy_charge[self.TARIFF_ID][0]\n",
    "        charge2=energy_charge[self.TARIFF_ID][1]\n",
    "        units_cons=self.unitsCons()\n",
    "        if units_cons<=slab:\n",
    "            return (units_cons*charge1)\n",
    "        return ((units_cons-slab)*charge2 + slab*charge1)\n",
    "    def pf_charge(self):\n",
    "        req_tariff=['IAS1','IAS2D','NDS1D','NDS2D','LTIS2D']\n",
    "        DEMAND_CHRG=self.fixed_chrg_cal()[0]\n",
    "        EC_CHRG=self.ec_charge()\n",
    "        chrg=0\n",
    "        if self.TARIFF_ID in req_tariff:\n",
    "            \n",
    "            if 0.8<=self.PF_VALUE< 0.9:\n",
    "                i=(0.9-self.PF_VALUE)/0.01\n",
    "                chrg=round((i*((1/100)*DEMAND_CHRG + (1/100)*EC_CHRG)),2)\n",
    "\n",
    "            elif self.PF_VALUE<0.8:\n",
    "                i=(0.8-self.PF_VALUE)/0.01\n",
    "                chrg=round((i*((1.5/100)*DEMAND_CHRG + (1.5/100)*EC_CHRG)) + (10*((1/100)*DEMAND_CHRG + (1/100)*EC_CHRG)),2)\n",
    "            \n",
    "            elif 0.90<self.PF_VALUE<=0.95:\n",
    "                i=(self.PF_VALUE-0.90)/0.01\n",
    "                chrg=-(round((i*((0.5/100)*DEMAND_CHRG + (0.5/100)*EC_CHRG)),2))\n",
    "\n",
    "            elif 0.95<self.PF_VALUE<1:\n",
    "                i=(self.PF_VALUE-0.95)/0.01\n",
    "                chrg=-(round((i*((1/100)*DEMAND_CHRG + (1/100)*EC_CHRG)+(5*((0.5/100)*DEMAND_CHRG + (0.5/100)*EC_CHRG))),2))\n",
    "        return chrg\n",
    "    "
   ]
  },
  {
   "cell_type": "code",
   "execution_count": 9,
   "metadata": {},
   "outputs": [
    {
     "name": "stdout",
     "output_type": "stream",
     "text": [
      "energy charge is  149.72\n",
      "units_cons is  19\n",
      "fixed charge is  (290, 0)\n",
      "shunt charge is  35.18\n"
     ]
    }
   ],
   "source": [
    "c1=tariffOrder(1,1,1,\"NDS2D\",29,1727,1708,0.48,0.82,22.24)\n",
    "print(\"energy charge is \",c1.ec_charge())\n",
    "print(\"units_cons is \",c1.unitsCons())\n",
    "print(\"fixed charge is \",c1.fixed_chrg_cal())\n",
    "print(\"shunt charge is \",c1.pf_charge())"
   ]
  },
  {
   "cell_type": "code",
   "execution_count": 11,
   "metadata": {},
   "outputs": [
    {
     "name": "stdout",
     "output_type": "stream",
     "text": [
      "energy charge is  90.84\n",
      "units_cons is  12\n",
      "fixed charge is  (38.67, 0)\n",
      "shunt charge is  0\n"
     ]
    }
   ],
   "source": [
    "c2=tariffOrder(1,1,1,\"DS1D\",29,49,37,0.02,0.95,22.82)\n",
    "print(\"energy charge is \",c2.ec_charge())\n",
    "print(\"units_cons is \",c2.unitsCons())\n",
    "print(\"fixed charge is \",c2.fixed_chrg_cal())\n",
    "print(\"shunt charge is \",c2.pf_charge())"
   ]
  },
  {
   "cell_type": "code",
   "execution_count": null,
   "metadata": {},
   "outputs": [],
   "source": [
    "c3=tariffOrder(1,1,1,\"DS2D\",29,369,350,0.15,0.9,22.36)\n",
    "print(\"energy charge is \",c3.ec_charge())\n",
    "print(\"units_cons is \",c3.unitsCons())\n",
    "print(\"fixed charge is \",c3.fixed_chrg_cal())\n",
    "print(\"pf value is \",c3.pf_charge())"
   ]
  },
  {
   "cell_type": "code",
   "execution_count": null,
   "metadata": {},
   "outputs": [],
   "source": [
    "c4=tariffOrder(2,2,2,\"HGN\",157,3300,1635,2,0.9,0)\n",
    "print(\"energy charge is \",c4.ec_charge())\n",
    "print(\"units_cons is \",c4.unitsCons())\n",
    "print(\"fixed charge is \",c4.fixed_chrg_cal())\n",
    "print(\"pf value is \",c4.pf_charge())"
   ]
  },
  {
   "cell_type": "code",
   "execution_count": null,
   "metadata": {},
   "outputs": [],
   "source": [
    "c5=tariffOrder(2,2,2,\"IAS1\",29,1493,1469,0.85,0.77,22.02)\n",
    "print(\"energy charge is \",c5.ec_charge())\n",
    "print(\"units_cons is \",c5.unitsCons())\n",
    "print(\"fixed charge is \",c5.fixed_chrg_cal())\n",
    "print(\"pf value is \",c5.pf_charge())"
   ]
  }
 ],
 "metadata": {
  "kernelspec": {
   "display_name": "Python 3",
   "language": "python",
   "name": "python3"
  },
  "language_info": {
   "codemirror_mode": {
    "name": "ipython",
    "version": 3
   },
   "file_extension": ".py",
   "mimetype": "text/x-python",
   "name": "python",
   "nbconvert_exporter": "python",
   "pygments_lexer": "ipython3",
   "version": "3.11.9"
  }
 },
 "nbformat": 4,
 "nbformat_minor": 2
}
